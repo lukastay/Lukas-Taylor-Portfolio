{
 "cells": [
  {
   "cell_type": "code",
   "execution_count": 2,
   "id": "376bc9db-7ebc-469c-b064-385c818f6386",
   "metadata": {
    "tags": []
   },
   "outputs": [
    {
     "name": "stdout",
     "output_type": "stream",
     "text": [
      "0  level_0  index                             NAICS2017_LABEL NAICS2017  \\\n",
      "0        1      1                               Manufacturing     31-33   \n",
      "1        2      2                  Wood product manufacturing       321   \n",
      "2        3      3  Plastics and rubber products manufacturing       326   \n",
      "3        4      4      Fabricated metal product manufacturing       332   \n",
      "4        5      5                     Machinery manufacturing       333   \n",
      "\n",
      "0          GEO_ID FIRM COUNTY STATE  YEAR ECT019  ...   EMP INVFINB INVTOTE  \\\n",
      "0  0500000US47177   56    177    47  2017      0  ...  3933       0       0   \n",
      "1  0500000US47177    6    177    47  2017      0  ...   217       0       0   \n",
      "2  0500000US47177    0    177    47  2017      0  ...     0       0       0   \n",
      "3  0500000US47177   13    177    47  2017      0  ...   170       0       0   \n",
      "4  0500000US47177   15    177    47  2017      0  ...   232       0       0   \n",
      "\n",
      "0 PCHADVT PCHTAX RCPCWRK   RCPTOT RNPROP state county  \n",
      "0       0      0       0  1278536      0    47    177  \n",
      "1       0      0       0    54349      0    47    177  \n",
      "2       0      0       0        0      0    47    177  \n",
      "3       0      0       0    30354      0    47    177  \n",
      "4       0      0       0    34081      0    47    177  \n",
      "\n",
      "[5 rows x 28 columns]\n"
     ]
    }
   ],
   "source": [
    "import xlrd\n",
    "import numpy as np \n",
    "import pandas as pd \n",
    "import math \n",
    "from time import sleep\n",
    "import time\n",
    "import os\n",
    "import requests\n",
    "from bs4 import BeautifulSoup\n",
    "import lxml\n",
    "import html5lib\n",
    "from pandas import json_normalize\n",
    "import pandas as pd\n",
    "from sodapy import Socrata\n",
    "%matplotlib inline\n",
    "key=\"7a1d4f2ad8bdd748802e4dda66a65fe3c9bef3df\"\n",
    "url='https://api.census.gov/data/2017/ecnbasic?get=NAICS2017_LABEL,NAICS2017,GEO_ID,FIRM,COUNTY,STATE,YEAR,ECT019,ECTGE20,ESTAB,FIRM,PAYANN,VALADD,CSTELEC,CSTMTOT,ELECPCH,EMP,INVFINB,INVTOTE,PCHADVT,PCHTAX,RCPCWRK,RCPTOT,RNPROP&for=county:*&key='+key\n",
    "response = requests.get(url).json()\n",
    "raw4 = pd.DataFrame.from_dict(response)\n",
    "raw4.columns=raw4.iloc[0]\n",
    "raw4 = raw4.reset_index()\n",
    "raw4 = raw4.drop(raw4.index[0])\n",
    "raw4 = raw4.reset_index()\n"
   ]
  },
  {
   "cell_type": "code",
   "execution_count": 8,
   "id": "f8725378-d744-460f-93c3-7b5c25522b79",
   "metadata": {
    "tags": []
   },
   "outputs": [],
   "source": [
    "for row in range(raw4.shape[0]): \n",
    "    if int(raw4.loc[row, 'YEAR'])!=2017: print(raw4.loc[row, 'YEAR'])"
   ]
  },
  {
   "cell_type": "code",
   "execution_count": null,
   "id": "340f4e2c-e1e2-4820-8b3e-51a5c12a5493",
   "metadata": {},
   "outputs": [],
   "source": []
  }
 ],
 "metadata": {
  "kernelspec": {
   "display_name": "Python 3 (ipykernel)",
   "language": "python",
   "name": "python3"
  },
  "language_info": {
   "codemirror_mode": {
    "name": "ipython",
    "version": 3
   },
   "file_extension": ".py",
   "mimetype": "text/x-python",
   "name": "python",
   "nbconvert_exporter": "python",
   "pygments_lexer": "ipython3",
   "version": "3.9.4"
  }
 },
 "nbformat": 4,
 "nbformat_minor": 5
}
